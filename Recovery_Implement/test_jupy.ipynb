{
 "cells": [
  {
   "cell_type": "code",
   "execution_count": 7,
   "metadata": {},
   "outputs": [
    {
     "name": "stdout",
     "output_type": "stream",
     "text": [
      "The demonstration is:\n",
      "point 0: [100, 50]\n",
      "point 1: [200, 200]\n",
      "point 2: [300, 400]\n",
      "point 3: [400, 350]\n",
      "point 4: [450, 450]\n",
      "point 5: [500, 550]\n",
      "\n",
      "\n",
      "The final goal position is:[500, 550]\n",
      "Agent has recorded the demonstration as its original skills: OrderedDict([('0', [100, 50]), ('1', [200, 200]), ('2', [300, 400]), ('3', [400, 350]), ('4', [450, 450]), ('5', [500, 550])])\n",
      "Region 0: [100.02585845  50.0081249    0.24597191   0.24760976   0.24952041\n",
      "   0.25077093]\n",
      "Region 1: [200.00371562 199.90465224   0.5051989    0.49639011   0.50497016\n",
      "   0.49834257]\n",
      "Region 2: [300.07479249 400.10216791   0.76195967   0.75505389   0.74903558\n",
      "   0.76080809]\n",
      "Region 3: [3.99866167e+02 3.50138379e+02 2.53866079e-01 2.45293794e-01\n",
      " 2.44697295e-01 2.51388904e-01]\n",
      "Region 4: [449.96045814 449.92147236   0.50264452   0.5038876    0.49971586\n",
      "   0.501437  ]\n"
     ]
    }
   ],
   "source": [
    "import Recovery_RL_Agent\n",
    "import env_robot\n",
    "import numpy as np\n",
    "# import torch\n",
    "import region\n",
    "\n",
    "\n",
    "robot = env_robot.Env(dim=2)\n",
    "agent = Recovery_RL_Agent.Agent()\n",
    "\n",
    "demo_goal =  [[100,50],[200,200],[300,400],[400,350],[450,450],[500,550]]\n",
    "robot.demonstration(demo_goal)\n",
    "demo_act_dict = agent.demo_record(demo_goal)\n",
    "\n",
    "repeat_times = 100\n",
    "\n",
    "for i in range(0,repeat_times):\n",
    "    # executing the demo action and restore experience tuples in agent\n",
    "    episode_record,seperate_s_c_record = robot.execute_demo_act(demo_act_dict)\n",
    "    agent.seperate_exp_record(seperate_s_c_record)\n",
    "    agent.exp_record(episode_record)\n",
    "    # Reset env, back to start point\n",
    "    robot.test_reset()\n",
    "\n",
    "\n",
    "exp_tuple_test = agent.get_seperate_exp_list()\n",
    "\n",
    "experience_list = exp_tuple_test\n",
    "action_dict = demo_act_dict\n",
    "\n",
    "\n",
    "\n",
    "obj = region.Region_Cluster(experience_list, action_dict)\n",
    "r_s = obj.learn_state_region()\n",
    "for i, mean in enumerate(r_s):\n",
    "    print(\"Region {}: {}\".format(i, mean[0]) )\n",
    "\n",
    "    "
   ]
  },
  {
   "cell_type": "code",
   "execution_count": 2,
   "metadata": {},
   "outputs": [
    {
     "data": {
      "text/plain": [
       "tensor([[1., 1., 1.]])"
      ]
     },
     "execution_count": 2,
     "metadata": {},
     "output_type": "execute_result"
    }
   ],
   "source": [
    "import torch\n",
    "torch.ones(1,3)"
   ]
  },
  {
   "cell_type": "code",
   "execution_count": 3,
   "metadata": {},
   "outputs": [
    {
     "data": {
      "text/plain": [
       "array([0., 0., 0.])"
      ]
     },
     "execution_count": 3,
     "metadata": {},
     "output_type": "execute_result"
    }
   ],
   "source": [
    "np.zeros(3)"
   ]
  }
 ],
 "metadata": {
  "kernelspec": {
   "display_name": "Python 2",
   "language": "python",
   "name": "python2"
  },
  "language_info": {
   "codemirror_mode": {
    "name": "ipython",
    "version": 2
   },
   "file_extension": ".py",
   "mimetype": "text/x-python",
   "name": "python",
   "nbconvert_exporter": "python",
   "pygments_lexer": "ipython2",
   "version": "2.7.15"
  }
 },
 "nbformat": 4,
 "nbformat_minor": 2
}
